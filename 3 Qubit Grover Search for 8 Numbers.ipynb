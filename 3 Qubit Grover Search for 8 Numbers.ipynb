{
  "cells": [
    {
      "cell_type": "code",
      "execution_count": 1,
      "metadata": {
        "trusted": false
      },
      "outputs": [
        {
          "name": "stderr",
          "output_type": "stream",
          "text": "/opt/conda/lib/python3.7/site-packages/qiskit/providers/ibmq/ibmqfactory.py:192: UserWarning: Timestamps in IBMQ backend properties, jobs, and job results are all now in local time instead of UTC.\n  warnings.warn('Timestamps in IBMQ backend properties, jobs, and job results '\n"
        }
      ],
      "source": "%matplotlib inline\n# Importing standard Qiskit libraries and configuring account\nfrom qiskit import QuantumCircuit, execute, Aer, IBMQ\nfrom qiskit.compiler import transpile, assemble\nfrom qiskit.providers.ibmq import least_busy\nfrom qiskit.tools.jupyter import *\nfrom qiskit.visualization import *\n# Loading your IBM Q account(s)\nprovider = IBMQ.load_account()"
    },
    {
      "cell_type": "markdown",
      "metadata": {},
      "source": "# 3 Qubit Grover Search for 8 Numbers"
    },
    {
      "cell_type": "markdown",
      "metadata": {},
      "source": "## Theory\nThe Grover search algorithm consists of 4 main steps:\n<ol>\n<li> \n  Initialize the three qubits by applying Hadamard gates.\n</li>\n<li>\n  Mark the desired states with an oracle.\n</li>\n<li>\n  Perform reflection about the mean amplitude. This block is known as the diffuser.\n</li>\n<li>\n  Measure the three qubits to get an awnser.\n</li>"
    },
    {
      "cell_type": "code",
      "execution_count": 2,
      "metadata": {
        "trusted": false
      },
      "outputs": [
        {
          "data": {
            "image/png": "[encoded data removed]",
            "text/plain": "<Figure size 658.679x264.88 with 1 Axes>"
          },
          "execution_count": 2,
          "metadata": {},
          "output_type": "execute_result"
        }
      ],
      "source": "grover_circuit = QuantumCircuit(3)\noracle_circuit = QuantumCircuit(3)\noracle = oracle_circuit.to_gate()\noracle.name = \" Oracle\"\ndiffuser_circuit = QuantumCircuit(3)\ndiffuser = diffuser_circuit.to_gate()\ndiffuser.name = \" Diffuser\"\n\ngrover_circuit.h([0,1,2])\ngrover_circuit.append(oracle, [0,1,2])\ngrover_circuit.append(diffuser, [0,1,2])\ngrover_circuit.measure_all()\n\ngrover_circuit.draw()"
    },
    {
      "cell_type": "markdown",
      "metadata": {},
      "source": "## Diffuser\nAs the content of the diffuser gate does not depend on the solution(s) we are looking for, let us implement it first. The diffuser consists of the following steps:\n<ol>\n<li> \n  Apply H-gates to all qubits.\n</li>\n<li> \n  Apply X-gates to all qubits.\n</li>\n<li> \n  Apply multi-controlled Z-gate to all qubits.\n</li>\n<li> \n  Apply X-gates to all qubits.\n</li>\n<li> \n  Apply H-gates to all qubits.\n</li>\n"
    },
    {
      "cell_type": "code",
      "execution_count": 17,
      "metadata": {
        "trusted": false
      },
      "outputs": [
        {
          "data": {
            "image/png": "[encoded data removed]",
            "text/plain": "<Figure size 507.997x204.68 with 1 Axes>"
          },
          "execution_count": 17,
          "metadata": {},
          "output_type": "execute_result"
        }
      ],
      "source": "# From: https://qiskit.org/textbook/ch-algorithms/grover.html\nn=3\nqc = QuantumCircuit(n)\n# Apply H-gates to all qubits\nfor qubit in range(n):\n    qc.h(qubit)\n# Apply X-gates to all qubits\nfor qubit in range(n):\n    qc.x(qubit)\n# Apply multi-controlled Z-gate to all qubits\nqc.h(n-1)\nqc.mct(list(range(n-1)), n-1)  # Using multi-controlled Toffoli-gate\nqc.h(n-1)\n# Apply X-gates to all qubits\nfor qubit in range(n):\n    qc.x(qubit)\n# Apply H-gates to all qubits\nfor qubit in range(n):\n    qc.h(qubit)\n\nqc.draw()"
    },
    {
      "cell_type": "markdown",
      "metadata": {},
      "source": "We want an universal implementation, so let's pack the diffuser into a function that takes the desired number of qubits n as an argument."
    },
    {
      "cell_type": "code",
      "execution_count": 18,
      "metadata": {
        "trusted": false
      },
      "outputs": [],
      "source": "# From: https://qiskit.org/textbook/ch-algorithms/grover.html\ndef diffuser(n):\n    qc = QuantumCircuit(n)\n    # Apply H-gates to all qubits\n    for qubit in range(n):\n        qc.h(qubit)\n    # Apply X-gates to all qubits\n    for qubit in range(n):\n        qc.x(qubit)\n    # Apply multi-controlled Z-gate to all qubits\n    qc.h(n-1)\n    qc.mct(list(range(n-1)), n-1)  # Using multi-controlled Toffoli-gate\n    qc.h(n-1)\n    # Apply X-gates to all qubits\n    for qubit in range(n):\n        qc.x(qubit)\n    # Apply H-gates to all qubits\n    for qubit in range(n):\n        qc.h(qubit)\n    # Return the diffuser gate\n    diffuser = qc.to_gate()\n    diffuser.name = \" Diffuser\"\n    return diffuser"
    },
    {
      "cell_type": "markdown",
      "metadata": {},
      "source": "## Single-Solution Oracle\nThere are 2 different types of oracle implementations for Grover search: Boolean and phase oracles. The Boolean approach is directly comparable to a classical search and requires one more \"ancilliary\" qubit to be used. We will use phase oracle implementation to save resources. From https://www.nature.com/articles/s41467-017-01904-7 we note that a single-solution oracle can be realized by the folloving steps:\n<ol>\n<li> \n  Apply X-gates to all qubits flagged as 0 in the solution.\n</li>\n<li> \n  Apply multi-controlled Z-gate to all qubits.\n</li>\n<li> \n  Apply X-gates to all qubits flagged as 0 in the solution.\n</li>\n"
    },
    {
      "cell_type": "code",
      "execution_count": 5,
      "metadata": {
        "trusted": false
      },
      "outputs": [
        {
          "data": {
            "image/png": "[encoded data removed]",
            "text/plain": "<Figure size 267.197x204.68 with 1 Axes>"
          },
          "execution_count": 5,
          "metadata": {},
          "output_type": "execute_result"
        }
      ],
      "source": "target = [1,0,1]\nn=len(target)\nqc = QuantumCircuit(n)\n# Apply X-gates to all qubits flagged as 0\nfor qubit in range(n):\n    if target[qubit] == 0:\n        qc.x(qubit)\n# Apply multi-controlled Z-gate to all qubits\nqc.h(n-1)\nqc.mct(list(range(n-1)), n-1)  # Using multi-controlled Toffoli-gate\nqc.h(n-1)\n# Apply X-gates to all qubits flagged as 0\nfor qubit in range(n):\n    if target[qubit] == 0:\n        qc.x(qubit)\n\nqc.draw()"
    },
    {
      "cell_type": "markdown",
      "metadata": {},
      "source": "Again, we want this implementation to be usable for all single-state solutions. Let us make a function out of it."
    },
    {
      "cell_type": "code",
      "execution_count": 6,
      "metadata": {
        "trusted": false
      },
      "outputs": [],
      "source": "def single_oracle(target):\n    n=len(target)\n    qc = QuantumCircuit(n)\n    # Apply X-gates to all qubits flagged as 0\n    for qubit in range(n):\n        if target[qubit] == 0:\n            qc.x(qubit)\n    # Apply multi-controlled Z-gate\n    qc.h(n-1)\n    qc.mct(list(range(n-1)), n-1)  # Using multi-controlled Toffoli-gate\n    qc.h(n-1)\n    # Apply X-gates to all qubits flagged as 0\n    for qubit in range(n):\n        if target[qubit] == 0:\n            qc.x(qubit)\n    # Return the oracle gate\n    single_oracle = qc.to_gate()\n    single_oracle.name = \" Oracle\"\n    return single_oracle"
    },
    {
      "cell_type": "markdown",
      "metadata": {},
      "source": "## Double-Solution Oracles\nThese are phase oracles according to https://www.nature.com/articles/s41467-017-01904-7 but flipped about the horizontal to account for reverse ordering of the qubits in qiskit."
    },
    {
      "cell_type": "code",
      "execution_count": 94,
      "metadata": {
        "trusted": false
      },
      "outputs": [],
      "source": "# 000 & 001 Hardcoded\nqc = QuantumCircuit(3)\nqc.z(1)\nqc.z(2)\nqc.cz(1,2)\n\noracle_000_001 = qc.to_gate()\noracle_000_001.name = \"$U_{000-001}$\""
    },
    {
      "cell_type": "code",
      "execution_count": 100,
      "metadata": {
        "trusted": false
      },
      "outputs": [],
      "source": "# 000 & 010 Hardcoded\nqc = QuantumCircuit(3)\nqc.z(0)\nqc.z(2)\nqc.cz(0,2)\n\noracle_000_010 = qc.to_gate()\noracle_000_010.name = \"$U_{000-010}$\""
    },
    {
      "cell_type": "code",
      "execution_count": 104,
      "metadata": {
        "trusted": false
      },
      "outputs": [],
      "source": "# 000 & 011 Hardcoded\nqc = QuantumCircuit(3)\n\nqc.z(0)\nqc.z(1)\nqc.z(2)\nqc.cz(1,2)\nqc.cz(0,2)\n\noracle_000_011 = qc.to_gate()\noracle_000_011.name = \"$U_{000-011}$\""
    },
    {
      "cell_type": "code",
      "execution_count": 125,
      "metadata": {
        "trusted": false
      },
      "outputs": [],
      "source": "# 000 & 100 Hardcoded\nqc = QuantumCircuit(3)\n\nqc.z(0)\nqc.z(1)\nqc.cz(0,1)\n\noracle_000_100 = qc.to_gate()\noracle_000_100.name = \"$U_{000-100}$\""
    },
    {
      "cell_type": "code",
      "execution_count": 133,
      "metadata": {
        "trusted": false
      },
      "outputs": [],
      "source": "# 000 & 101 Hardcoded\nqc = QuantumCircuit(3)\n\nqc.z(0)\nqc.z(1)\nqc.z(2)\nqc.cz(1,2)\nqc.cz(0,1)\n\noracle_000_101 = qc.to_gate()\noracle_000_101.name = \"$U_{000-101}$\""
    },
    {
      "cell_type": "code",
      "execution_count": 136,
      "metadata": {
        "trusted": false
      },
      "outputs": [],
      "source": "# 000 & 110 Hardcoded\nqc = QuantumCircuit(3)\n\nqc.z(0)\nqc.z(1)\nqc.z(2)\nqc.cz(0,2)\nqc.cz(0,1)\n\noracle_000_110 = qc.to_gate()\noracle_000_110.name = \"$U_{000-110}$\""
    },
    {
      "cell_type": "code",
      "execution_count": 142,
      "metadata": {
        "trusted": false
      },
      "outputs": [],
      "source": "# 001 & 010 Hardcoded\nqc = QuantumCircuit(3)\n\nqc.z(0)\nqc.z(1)\nqc.cz(1,2)\nqc.cz(0,2)\n\noracle_001_010 = qc.to_gate()\noracle_001_010.name = \"$U_{001-010}$\""
    },
    {
      "cell_type": "code",
      "execution_count": 145,
      "metadata": {
        "trusted": false
      },
      "outputs": [],
      "source": "# 001 & 011 Hardcoded\nqc = QuantumCircuit(3)\n\nqc.z(0)\nqc.cz(0,2)\n\noracle_001_011 = qc.to_gate()\noracle_001_011.name = \"$U_{001-011}$\""
    },
    {
      "cell_type": "code",
      "execution_count": 153,
      "metadata": {
        "trusted": false
      },
      "outputs": [],
      "source": "# 001 & 100 Hardcoded\nqc = QuantumCircuit(3)\n\nqc.z(0)\nqc.z(2)\nqc.cz(1,2)\nqc.cz(0,1)\n\noracle_001_100 = qc.to_gate()\noracle_001_100.name = \"$U_{001-100}$\""
    },
    {
      "cell_type": "code",
      "execution_count": 156,
      "metadata": {
        "trusted": false
      },
      "outputs": [],
      "source": "# 001 & 101 Hardcoded\nqc = QuantumCircuit(3)\n\nqc.z(0)\nqc.cz(0,1)\n\noracle_001_101 = qc.to_gate()\noracle_001_101.name = \"$U_{001-101}$\""
    },
    {
      "cell_type": "code",
      "execution_count": 161,
      "metadata": {
        "trusted": false
      },
      "outputs": [],
      "source": "# 001 & 110 Hardcoded\nqc = QuantumCircuit(3)\n\nqc.z(0)\nqc.cz(1,2)\nqc.cz(0,2)\nqc.cz(0,1)\n\noracle_001_110 = qc.to_gate()\noracle_001_110.name = \"$U_{001-110}$\""
    },
    {
      "cell_type": "code",
      "execution_count": 167,
      "metadata": {
        "trusted": false
      },
      "outputs": [],
      "source": "# 001 & 111 Hardcoded\nqc = QuantumCircuit(3)\n\nqc.z(0)\nqc.cz(0,2)\nqc.cz(0,1)\n\noracle_001_111 = qc.to_gate()\noracle_001_111.name = \"$U_{001-111}$\""
    },
    {
      "cell_type": "code",
      "execution_count": 170,
      "metadata": {
        "trusted": false
      },
      "outputs": [],
      "source": "# 010 & 011 Hardcoded\nqc = QuantumCircuit(3)\n\nqc.z(1)\nqc.cz(1,2)\n\noracle_010_011 = qc.to_gate()\noracle_010_011.name = \"$U_{010-011}$\""
    },
    {
      "cell_type": "code",
      "execution_count": 173,
      "metadata": {
        "trusted": false
      },
      "outputs": [],
      "source": "# 010 & 100 Hardcoded\nqc = QuantumCircuit(3)\n\nqc.z(1)\nqc.z(2)\nqc.cz(0,2)\nqc.cz(0,1)\n\noracle_010_100 = qc.to_gate()\noracle_010_100.name = \"$U_{010-100}$\""
    },
    {
      "cell_type": "code",
      "execution_count": 176,
      "metadata": {
        "trusted": false
      },
      "outputs": [],
      "source": "# 010 & 101 Hardcoded\nqc = QuantumCircuit(3)\n\nqc.z(1)\nqc.cz(1,2)\nqc.cz(0,2)\nqc.cz(0,1)\n\noracle_010_101 = qc.to_gate()\noracle_010_101.name = \"$U_{010-101}$\""
    },
    {
      "cell_type": "code",
      "execution_count": 183,
      "metadata": {
        "trusted": false
      },
      "outputs": [],
      "source": "# 010 & 110 Hardcoded\nqc = QuantumCircuit(3)\n\nqc.z(1)\nqc.cz(0,1)\n\noracle_010_110 = qc.to_gate()\noracle_010_110.name = \"$U_{010-110}$\""
    },
    {
      "cell_type": "code",
      "execution_count": 184,
      "metadata": {
        "trusted": false
      },
      "outputs": [],
      "source": "# 010 & 111 Hardcoded\nqc = QuantumCircuit(3)\n\nqc.z(1)\nqc.cz(1,2)\nqc.cz(0,1)\n\noracle_010_111 = qc.to_gate()\noracle_010_111.name = \"$U_{010-111}$\""
    },
    {
      "cell_type": "code",
      "execution_count": 191,
      "metadata": {
        "trusted": false
      },
      "outputs": [],
      "source": "# 011 & 100 Hardcoded\nqc = QuantumCircuit(3)\n\nqc.z(2)\nqc.cz(1,2)\nqc.cz(0,2)\nqc.cz(0,1)\n\noracle_011_100 = qc.to_gate()\noracle_011_100.name = \"$U_{011-100}$\""
    },
    {
      "cell_type": "code",
      "execution_count": 194,
      "metadata": {
        "trusted": false
      },
      "outputs": [],
      "source": "# 011 & 101 Hardcoded\nqc = QuantumCircuit(3)\n\nqc.cz(0,2)\nqc.cz(0,1)\n\noracle_011_101 = qc.to_gate()\noracle_011_101.name = \"$U_{011-101}$\""
    },
    {
      "cell_type": "code",
      "execution_count": 197,
      "metadata": {
        "trusted": false
      },
      "outputs": [],
      "source": "# 011 & 110 Hardcoded\nqc = QuantumCircuit(3)\n\nqc.cz(1,2)\nqc.cz(0,1)\n\noracle_011_110 = qc.to_gate()\noracle_011_110.name = \"$U_{011-110}$\""
    },
    {
      "cell_type": "code",
      "execution_count": 200,
      "metadata": {
        "trusted": false
      },
      "outputs": [],
      "source": "# 011 & 111 Hardcoded\nqc = QuantumCircuit(3)\n\nqc.cz(0,1)\n\noracle_011_111 = qc.to_gate()\noracle_011_111.name = \"$U_{011-111}$\""
    },
    {
      "cell_type": "code",
      "execution_count": 203,
      "metadata": {
        "trusted": false
      },
      "outputs": [],
      "source": "# 100 & 101 Hardcoded\nqc = QuantumCircuit(3)\n\nqc.z(2)\nqc.cz(1,2)\n\noracle_100_101 = qc.to_gate()\noracle_100_101.name = \"$U_{100-101}$\""
    },
    {
      "cell_type": "code",
      "execution_count": null,
      "metadata": {
        "trusted": false
      },
      "outputs": [],
      "source": "# 100 & 110 Hardcoded\nqc = QuantumCircuit(3)\n\nqc.z(2)\nqc.cz(0,2)\n\noracle_100_110 = qc.to_gate()\noracle_100_110.name = \"$U_{100-110}$\""
    },
    {
      "cell_type": "code",
      "execution_count": 209,
      "metadata": {
        "trusted": false
      },
      "outputs": [],
      "source": "# 100 & 111 Hardcoded\nqc = QuantumCircuit(3)\n\nqc.z(2)\nqc.cz(1,2)\nqc.cz(0,2)\n\noracle_100_111 = qc.to_gate()\noracle_100_111.name = \"$U_{100-111}$\""
    },
    {
      "cell_type": "code",
      "execution_count": 214,
      "metadata": {
        "trusted": false
      },
      "outputs": [],
      "source": "# 101 & 110 Hardcoded\nqc = QuantumCircuit(3)\n\nqc.cz(1,2)\nqc.cz(0,2)\n\noracle_101_110 = qc.to_gate()\noracle_101_110.name = \"$U_{101-110}$\""
    },
    {
      "cell_type": "code",
      "execution_count": 217,
      "metadata": {
        "trusted": false
      },
      "outputs": [],
      "source": "# 101 & 111 Hardcoded\nqc = QuantumCircuit(3)\n\nqc.cz(0,2)\n\noracle_101_111 = qc.to_gate()\noracle_101_111.name = \"$U_{101-111}$\""
    },
    {
      "cell_type": "code",
      "execution_count": 220,
      "metadata": {
        "trusted": false
      },
      "outputs": [],
      "source": "# 110 & 111 Hardcoded\nqc = QuantumCircuit(3)\n\nqc.cz(1,2)\n\noracle_110_111 = qc.to_gate()\noracle_110_111.name = \"$U_{110-111}$\""
    },
    {
      "cell_type": "markdown",
      "metadata": {},
      "source": "## Putting It Together\nWe are now ready to plug in the diffuser and oracle to our Grover search circuit. An important note here is that qiskit has the order of the qubits flipped with respect to the publication https://www.nature.com/articles/s41467-017-01904-7, so we need to account for this in the code."
    },
    {
      "cell_type": "code",
      "execution_count": 223,
      "metadata": {
        "trusted": false
      },
      "outputs": [
        {
          "data": {
            "image/png": "[encoded data removed]",
            "text/plain": "<Figure size 658.679x264.88 with 1 Axes>"
          },
          "execution_count": 223,
          "metadata": {},
          "output_type": "execute_result"
        }
      ],
      "source": "# Define target state\ntarget = [1,0,1]\ntarget.reverse()  # Important inclusion for our implementation.\nn=len(target)\n# Initialize the qubits\ngrover_circuit = QuantumCircuit(n)\ngrover_circuit.h([0,1,2])\n# Plug in oracle\ngrover_circuit.append(oracle_110_111, [0,1,2])\n# Plug in diffuser\ngrover_circuit.append(diffuser(n), [0,1,2])\n# Measure the output\ngrover_circuit.measure_all()\n\ngrover_circuit.draw()"
    },
    {
      "cell_type": "markdown",
      "metadata": {},
      "source": "## Testing with Simulator"
    },
    {
      "cell_type": "code",
      "execution_count": 224,
      "metadata": {
        "trusted": false
      },
      "outputs": [
        {
          "data": {
            "image/png": "[encoded data removed]",
            "text/plain": "<Figure size 504x360 with 1 Axes>"
          },
          "execution_count": 224,
          "metadata": {},
          "output_type": "execute_result"
        }
      ],
      "source": "backend = Aer.get_backend('qasm_simulator')\nresults = execute(grover_circuit, backend=backend, shots=1024).result()\nanswer = results.get_counts()\nplot_histogram(answer)"
    },
    {
      "cell_type": "markdown",
      "metadata": {},
      "source": "## Testing with Real Device"
    },
    {
      "cell_type": "code",
      "execution_count": 225,
      "metadata": {
        "trusted": false
      },
      "outputs": [
        {
          "name": "stdout",
          "output_type": "stream",
          "text": "least busy backend:  ibmq_ourense\n"
        }
      ],
      "source": "# Get the Least busy backend\nbackend = least_busy(provider.backends(filters=lambda x: x.configuration().n_qubits >= 3 and \n                                   not x.configuration().simulator and x.status().operational==True))\nprint(\"Least busy backend: \", backend)"
    },
    {
      "cell_type": "code",
      "execution_count": 227,
      "metadata": {
        "trusted": false
      },
      "outputs": [
        {
          "name": "stdout",
          "output_type": "stream",
          "text": "Job Status: job has successfully run\n"
        }
      ],
      "source": "# Send the job to the least busy backend.\nfrom qiskit.tools.monitor import job_monitor\njob = execute(grover_circuit, backend=backend, shots=1024, optimization_level=3)\njob_monitor(job, interval = 2)"
    },
    {
      "cell_type": "code",
      "execution_count": 84,
      "metadata": {
        "trusted": false
      },
      "outputs": [
        {
          "data": {
            "image/png": "[encoded data removed]",
            "text/plain": "<Figure size 504x360 with 1 Axes>"
          },
          "execution_count": 84,
          "metadata": {},
          "output_type": "execute_result"
        }
      ],
      "source": "# Plot the results.\nresults = job.result()\nanswer = results.get_counts(grover_circuit)\nplot_histogram(answer)"
    },
    {
      "cell_type": "markdown",
      "metadata": {},
      "source": "## References <a id='references'></a>\n1. Qiskit Textbook https://qiskit.org/textbook/ch-algorithms/grover.html\n2. C. Figgatt, D. Maslov, K. A. Landsman, N. M. Linke, S. Debnath & C. Monroe (2017), \"Complete 3-Qubit Grover search on a programmable quantum computer\", Nature Communications, Vol 8, Art 1918, [doi:10.1038/s41467-017-01904-7](https://doi.org/10.1038/s41467-017-01904-7), [arXiv:1703.10535 ](https://arxiv.org/abs/1703.10535)"
    },
    {
      "cell_type": "code",
      "execution_count": null,
      "metadata": {
        "trusted": false
      },
      "outputs": [],
      "source": ""
    }
  ],
  "metadata": {
    "kernelspec": {
      "display_name": "Python 3",
      "language": "python",
      "name": "python3"
    },
    "language_info": {
      "codemirror_mode": {
        "name": "ipython",
        "version": 3
      },
      "file_extension": ".py",
      "mimetype": "text/x-python",
      "name": "python",
      "nbconvert_exporter": "python",
      "pygments_lexer": "ipython3",
      "version": "3.7.8"
    }
  },
  "nbformat": 4,
  "nbformat_minor": 4
}